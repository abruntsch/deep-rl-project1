{
 "cells": [
  {
   "cell_type": "markdown",
   "metadata": {},
   "source": [
    "# Navigation Project\n",
    "\n",
    "---\n",
    "\n",
    "In this notebook, a solution for the first project of the [Deep Reinforcement Learning Nanodegree](https://www.udacity.com/course/deep-reinforcement-learning-nanodegree--nd893) is provided.\n",
    "\n",
    "### 1. Setup the Environment\n",
    "\n",
    "At first some necessary packages need to be imported. This requires [Unity ML-Agents](https://github.com/Unity-Technologies/ml-agents/blob/master/docs/Installation.md), [NumPy](http://www.numpy.org/) and [Matplotlib](https://matplotlib.org/) to be installed."
   ]
  },
  {
   "cell_type": "code",
   "execution_count": 1,
   "metadata": {},
   "outputs": [],
   "source": [
    "from unityagents import UnityEnvironment\n",
    "import numpy as np\n",
    "import matplotlib.pyplot as plt\n",
    "\n",
    "# Set plotting options\n",
    "%matplotlib inline\n",
    "plt.style.use('ggplot')"
   ]
  },
  {
   "cell_type": "markdown",
   "metadata": {},
   "source": [
    "Next, the Unity environment is to be started. Depending on the machine the appropriate Unity environment needs to be selected here.\n",
    "\n",
    "- **Mac**: `\"path/to/Banana.app\"`\n",
    "- **Windows** (x86): `\"path/to/Banana_Windows_x86/Banana.exe\"`\n",
    "- **Windows** (x86_64): `\"path/to/Banana_Windows_x86_64/Banana.exe\"`\n",
    "- **Linux** (x86): `\"path/to/Banana_Linux/Banana.x86\"`\n",
    "- **Linux** (x86_64): `\"path/to/Banana_Linux/Banana.x86_64\"`\n",
    "- **Linux** (x86, headless): `\"path/to/Banana_Linux_NoVis/Banana.x86\"`\n",
    "- **Linux** (x86_64, headless): `\"path/to/Banana_Linux_NoVis/Banana.x86_64\"`"
   ]
  },
  {
   "cell_type": "code",
   "execution_count": 2,
   "metadata": {
    "scrolled": true
   },
   "outputs": [
    {
     "name": "stderr",
     "output_type": "stream",
     "text": [
      "INFO:unityagents:\n",
      "'Academy' started successfully!\n",
      "Unity Academy name: Academy\n",
      "        Number of Brains: 1\n",
      "        Number of External Brains : 1\n",
      "        Lesson number : 0\n",
      "        Reset Parameters :\n",
      "\t\t\n",
      "Unity brain name: BananaBrain\n",
      "        Number of Visual Observations (per agent): 0\n",
      "        Vector Observation space type: continuous\n",
      "        Vector Observation space size (per agent): 37\n",
      "        Number of stacked Vector Observation: 1\n",
      "        Vector Action space type: discrete\n",
      "        Vector Action space size (per agent): 4\n",
      "        Vector Action descriptions: , , , \n"
     ]
    }
   ],
   "source": [
    "env = UnityEnvironment(file_name=\"Banana_Linux_NoVis/Banana.x86_64\")"
   ]
  },
  {
   "cell_type": "markdown",
   "metadata": {},
   "source": [
    "Set the first brain available as the default brain that will be controlled."
   ]
  },
  {
   "cell_type": "code",
   "execution_count": 3,
   "metadata": {},
   "outputs": [],
   "source": [
    "brain_name = env.brain_names[0]\n",
    "brain = env.brains[brain_name]"
   ]
  },
  {
   "cell_type": "markdown",
   "metadata": {},
   "source": [
    "Reset the environment with the default brain and enable the training mode."
   ]
  },
  {
   "cell_type": "code",
   "execution_count": 4,
   "metadata": {},
   "outputs": [],
   "source": [
    "env_info = env.reset(train_mode=True)[brain_name]"
   ]
  },
  {
   "cell_type": "markdown",
   "metadata": {},
   "source": [
    "Retrieve the state and action sizes."
   ]
  },
  {
   "cell_type": "code",
   "execution_count": 5,
   "metadata": {},
   "outputs": [],
   "source": [
    "state_size = len(env_info.vector_observations[0])\n",
    "action_size = brain.vector_action_space_size"
   ]
  },
  {
   "cell_type": "markdown",
   "metadata": {},
   "source": [
    "### 2. Create a DQN Agent\n",
    "\n",
    "In this solution a DQN agent that implements experience replay will be trained to solve the banana environment. It it first initialized with the state and action sizes."
   ]
  },
  {
   "cell_type": "code",
   "execution_count": 6,
   "metadata": {},
   "outputs": [],
   "source": [
    "from dqn_agent import Agent\n",
    "\n",
    "agent = Agent(state_size=state_size, action_size=action_size, seed=0)"
   ]
  },
  {
   "cell_type": "markdown",
   "metadata": {},
   "source": [
    "### 3. Define the Training Process\n",
    "\n",
    "The training runs up to 1000 episodes. Once the mean score over the last 100 subsequent episodes hits or exceeds +13 points the environement is solved and the training process ends. The \"exploration rate\" epsilon decreases over time from 1.00 down to 0.01 with a decay factor of 0.98.\n",
    "\n",
    "The q-network is a fully-connected neural network with two hidden layers of 64 nodes and relu activations."
   ]
  },
  {
   "cell_type": "code",
   "execution_count": 7,
   "metadata": {},
   "outputs": [],
   "source": [
    "from collections import deque\n",
    "\n",
    "def dqn_training(n_episodes=1000, eps_start=1.0, eps_end=0.01, eps_decay=0.98):\n",
    "    \n",
    "    scores = []                        # list containing scores from each episode\n",
    "    scores_window = deque(maxlen=100)  # last 100 scores\n",
    "    \n",
    "    eps = eps_start                    # initialize epsilon\n",
    "    \n",
    "    for i_episode in range(1, n_episodes+1):\n",
    "        env_info = env.reset(train_mode=True)[brain_name]  # reset the environment\n",
    "        state = env_info.vector_observations[0]            # get the current state\n",
    "        score = 0                                          # initialize the score\n",
    "\n",
    "        while True:\n",
    "            action = agent.act(state, eps)                 # select an action\n",
    "            \n",
    "            env_info = env.step(action)[brain_name]        # send the action to the environment\n",
    "            next_state = env_info.vector_observations[0]   # get the next state\n",
    "            reward = env_info.rewards[0]                   # get the reward\n",
    "            done = env_info.local_done[0]                  # see if episode has finished\n",
    "            \n",
    "            agent.step(state, action, reward, next_state, done)\n",
    "            \n",
    "            score += reward                                # update the score\n",
    "            state = next_state                             # roll over the state to next time step\n",
    "            if done:                                       # exit loop if episode finished\n",
    "                break\n",
    "        \n",
    "        scores_window.append(score)           # save most recent score\n",
    "        scores.append(score)                  # save most recent score\n",
    "\n",
    "        eps = max(eps_end, eps_decay*eps)     # decrease epsilon\n",
    "        \n",
    "        mean_scores = np.mean(scores_window)  # calculate mean of scores of last 100 episodes\n",
    "        \n",
    "        if i_episode % 10 == 0:\n",
    "            print('\\rEpisode {}\\tAverage Score: {:.2f}'.format(i_episode, mean_scores))\n",
    "        \n",
    "        if mean_scores>=13.0:\n",
    "            print('\\nEnvironment solved in {:d} episodes!\\tAverage Score: {:.2f}'.format(i_episode-100, mean_scores))\n",
    "            \n",
    "            plt.plot(scores); plt.title(\"Scores\");         # plot scores obtained per episode\n",
    "            break"
   ]
  },
  {
   "cell_type": "markdown",
   "metadata": {},
   "source": [
    "### 3. Train the DQN Agent\n",
    "\n",
    "Start the training until an average score of 13.0 is achieved by the agent."
   ]
  },
  {
   "cell_type": "code",
   "execution_count": 8,
   "metadata": {
    "scrolled": false
   },
   "outputs": [
    {
     "name": "stdout",
     "output_type": "stream",
     "text": [
      "Episode 10\tAverage Score: 0.00\n",
      "Episode 20\tAverage Score: 0.00\n",
      "Episode 30\tAverage Score: 0.07\n",
      "Episode 40\tAverage Score: 0.68\n",
      "Episode 50\tAverage Score: 1.14\n",
      "Episode 60\tAverage Score: 1.35\n",
      "Episode 70\tAverage Score: 1.99\n",
      "Episode 80\tAverage Score: 2.58\n",
      "Episode 90\tAverage Score: 2.89\n",
      "Episode 100\tAverage Score: 3.18\n",
      "Episode 110\tAverage Score: 3.75\n",
      "Episode 120\tAverage Score: 4.42\n",
      "Episode 130\tAverage Score: 5.21\n",
      "Episode 140\tAverage Score: 5.65\n",
      "Episode 150\tAverage Score: 6.26\n",
      "Episode 160\tAverage Score: 7.02\n",
      "Episode 170\tAverage Score: 7.35\n",
      "Episode 180\tAverage Score: 7.67\n",
      "Episode 190\tAverage Score: 8.19\n",
      "Episode 200\tAverage Score: 8.76\n",
      "Episode 210\tAverage Score: 9.46\n",
      "Episode 220\tAverage Score: 9.78\n",
      "Episode 230\tAverage Score: 10.06\n",
      "Episode 240\tAverage Score: 10.52\n",
      "Episode 250\tAverage Score: 11.03\n",
      "Episode 260\tAverage Score: 11.35\n",
      "Episode 270\tAverage Score: 11.71\n",
      "Episode 280\tAverage Score: 12.10\n",
      "Episode 290\tAverage Score: 12.37\n",
      "Episode 300\tAverage Score: 12.52\n",
      "Episode 310\tAverage Score: 12.84\n",
      "\n",
      "Environment solved in 212 episodes!\tAverage Score: 13.02\n"
     ]
    },
    {
     "data": {
      "image/png": "[encoded data removed]",
      "text/plain": [
       "<Figure size 432x288 with 1 Axes>"
      ]
     },
     "metadata": {
      "needs_background": "light"
     },
     "output_type": "display_data"
    }
   ],
   "source": [
    "dqn_training()"
   ]
  },
  {
   "cell_type": "markdown",
   "metadata": {},
   "source": [
    "### 4. Store Model and Clean Up\n",
    "\n",
    "Save the trained model."
   ]
  },
  {
   "cell_type": "code",
   "execution_count": 9,
   "metadata": {},
   "outputs": [],
   "source": [
    "agent.store_model('stored_model.pth')"
   ]
  },
  {
   "cell_type": "markdown",
   "metadata": {},
   "source": [
    "Close the environment."
   ]
  },
  {
   "cell_type": "code",
   "execution_count": 10,
   "metadata": {},
   "outputs": [],
   "source": [
    "env.close()"
   ]
  }
 ],
 "metadata": {
  "kernelspec": {
   "display_name": "drlnd",
   "language": "python",
   "name": "drlnd"
  },
  "language_info": {
   "codemirror_mode": {
    "name": "ipython",
    "version": 3
   },
   "file_extension": ".py",
   "mimetype": "text/x-python",
   "name": "python",
   "nbconvert_exporter": "python",
   "pygments_lexer": "ipython3",
   "version": "3.6.9"
  }
 },
 "nbformat": 4,
 "nbformat_minor": 2
}
